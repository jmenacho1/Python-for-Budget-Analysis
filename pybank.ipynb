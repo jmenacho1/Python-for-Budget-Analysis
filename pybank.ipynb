{
 "cells": [
  {
   "cell_type": "markdown",
   "metadata": {},
   "source": [
    "### Pybank Menacho"
   ]
  },
  {
   "cell_type": "markdown",
   "metadata": {},
   "source": [
    "![image](image.jpg)"
   ]
  },
  {
   "cell_type": "markdown",
   "metadata": {},
   "source": [
    "Your task is to create a Python script that analyzes the records to calculate each of the following:\n",
    "\n",
    "\n",
    "The total number of months included in the dataset.\n",
    "\n",
    "\n",
    "The net total amount of Profit/Losses over the entire period.\n",
    "\n",
    "\n",
    "The average of the changes in Profit/Losses over the entire period.\n",
    "\n",
    "\n",
    "The greatest increase in profits (date and amount) over the entire period.\n",
    "\n",
    "\n",
    "The greatest decrease in losses (date and amount) over the entire period.\n",
    "\n",
    "\n",
    "Your resulting analysis should look similar to the following:\n",
    "Financial Analysis\n",
    "----------------------------\n",
    "Total Months: 86\n",
    "Total: $38382578\n",
    "Average  Change: $-2315.12\n",
    "Greatest Increase in Profits: Feb-2012 ($1926159)\n",
    "Greatest Decrease in Profits: Sep-2013 ($-2196167)\n"
   ]
  },
  {
   "cell_type": "code",
   "execution_count": 55,
   "metadata": {},
   "outputs": [
    {
     "name": "stdout",
     "output_type": "stream",
     "text": [
      "Financial Analysis\n",
      "-------------------\n",
      "\n",
      "Total Months: 86\n",
      "\n",
      "Total Net Profits: $38382578\n",
      "\n",
      "Average Change: $-2315.12\n",
      "\n",
      "Greatest Increase in Profits: Feb-12 ($1926159)\n",
      "\n",
      "Greatest Decreease in Profits: Sep-13 ($-2196167)\n",
      "\n"
     ]
    }
   ],
   "source": [
    "# Imports\n",
    "import csv\n",
    "from pathlib import Path\n",
    "\n",
    "budget_data = Path(\"budget_data.csv\")\n",
    "budget_output = Path(\"budget_analysis.txt\")\n",
    "\n",
    "# Notes: index column 0 = date and index column 1 = profit/loss\n",
    "# Track various financial parameters\n",
    "total_months = 0\n",
    "month_of_change = []\n",
    "net_change_list = []\n",
    "greatest_increase = [\"\", 0]\n",
    "greatest_decrease = [\"\", 9999999999]\n",
    "total_net = 0\n",
    "\n",
    "# Read the csv and convert it into a list of dictionaries\n",
    "with open(budget_data) as financial_data:\n",
    "    reader = csv.reader(financial_data)\n",
    "\n",
    "    # Read the header row\n",
    "    header = next(reader)\n",
    "\n",
    "    # Extract first row to avoid appending to net_change_list\n",
    "    first_row = next(reader) # header and first_row are the same but for calculation purposes\n",
    "    total_months = total_months + 1\n",
    "    total_net = total_net + int(first_row[1])\n",
    "    prev_net = int(first_row[1])\n",
    "\n",
    "    for row in reader:\n",
    "\n",
    "        # Track the total\n",
    "        total_months = total_months + 1\n",
    "        total_net = total_net + int(row[1])\n",
    "        # Track the net change\n",
    "        net_change = int(row[1]) - prev_net\n",
    "        prev_net = int(row[1])\n",
    "        net_change_list = net_change_list + [net_change]\n",
    "        month_of_change = month_of_change + [row[0]]\n",
    "\n",
    "        # Calculate the greatest increase\n",
    "        if net_change > greatest_increase[1]:\n",
    "            greatest_increase[0] = row[0]\n",
    "            greatest_increase[1] = net_change\n",
    "\n",
    "        # Calculate the greatest decrease\n",
    "        if net_change < greatest_decrease[1]:\n",
    "            greatest_decrease[0] = row[0]\n",
    "            greatest_decrease[1] = net_change\n",
    "\n",
    "# Calculate the Average Net Change\n",
    "net_monthly_avg = round(sum(net_change_list) / len(net_change_list),2)\n",
    "print(f\"Financial Analysis\")\n",
    "print(f\"-------------------\\n\")\n",
    "print(f\"Total Months: {total_months}\\n\")\n",
    "print(f\"Total Net Profits: ${total_net}\\n\")\n",
    "print(f\"Average Change: ${net_monthly_avg}\\n\")\n",
    "print(f\"Greatest Increase in Profits: {greatest_increase[0]} (${greatest_increase[1]})\\n\")\n",
    "print(f\"Greatest Decreease in Profits: {greatest_decrease[0]} (${greatest_decrease[1]})\\n\")\n",
    "\n",
    "# Export the results to text file\n",
    "with open(budget_output, \"w\") as txt_file:\n",
    "    # with open 'w' = write with open 'r' = read\n",
    "    txt_file.write(f\"Financial Analysis\\n\")\n",
    "    txt_file.write(f\"----------------------------\\n\")\n",
    "    txt_file.write(f\"Total Months: {total_months}\\n\")\n",
    "    txt_file.write(f\"Total: ${total_net}\\n\")\n",
    "    txt_file.write(f\"Average  Change: ${net_monthly_avg}\\n\")\n",
    "    txt_file.write(f\"Greatest Increase in Profits: {greatest_increase[0]} (${greatest_increase[1]})\\n\")\n",
    "    txt_file.write(f\"Greatest Decrease in Profits: {greatest_decrease[0]} (${greatest_decrease[1]})\\n\")\n",
    "\n",
    "\n",
    "\n",
    "\n"
   ]
  },
  {
   "cell_type": "code",
   "execution_count": null,
   "metadata": {},
   "outputs": [],
   "source": []
  }
 ],
 "metadata": {
  "kernelspec": {
   "display_name": "Python 3",
   "language": "python",
   "name": "python3"
  },
  "language_info": {
   "codemirror_mode": {
    "name": "ipython",
    "version": 3
   },
   "file_extension": ".py",
   "mimetype": "text/x-python",
   "name": "python",
   "nbconvert_exporter": "python",
   "pygments_lexer": "ipython3",
   "version": "3.7.6"
  }
 },
 "nbformat": 4,
 "nbformat_minor": 4
}
